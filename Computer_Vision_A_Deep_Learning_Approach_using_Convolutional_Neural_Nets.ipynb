{
  "nbformat": 4,
  "nbformat_minor": 0,
  "metadata": {
    "colab": {
      "provenance": [],
      "collapsed_sections": [
        "svT07ppA_Tm2",
        "WFrdHCC36IjB"
      ],
      "include_colab_link": true
    },
    "kernelspec": {
      "name": "python3",
      "display_name": "Python 3"
    },
    "language_info": {
      "name": "python"
    }
  },
  "cells": [
    {
      "cell_type": "markdown",
      "metadata": {
        "id": "view-in-github",
        "colab_type": "text"
      },
      "source": [
        "<a href=\"https://colab.research.google.com/github/paulodowd/woiec2023/blob/main/Computer_Vision_A_Deep_Learning_Approach_using_Convolutional_Neural_Nets.ipynb\" target=\"_parent\"><img src=\"https://colab.research.google.com/assets/colab-badge.svg\" alt=\"Open In Colab\"/></a>"
      ]
    },
    {
      "cell_type": "markdown",
      "source": [
        "# **Computer Vision: A Deep-Learning Approach using Convolutional Neural Nets**\n",
        "\n",
        "\n",
        "\n",
        "---\n",
        "\n",
        "\n",
        "\n",
        "**By the end of this worksheet you will:**\n",
        "\n",
        "1. Have a greater understanding of the role of deep learning in computer vision, and robotics (and other fields)\n",
        "2. Be familiar with the key steps in the machine/deep learning pipeline.\n",
        "3. Be able to build simple deep learning models, and understand techniques to enhance the performance of the model\n",
        "\n",
        "### **Biological vs Digital Sensors**\n",
        "\n",
        "Humans perceive visual information through our eyes, which contain specialised cells called photoreceptors that capture light and convert it into electrical signals. We can effortlessly recognise objects, colours, and patterns, as well as perceive depth and motion. In contrast, computers or robots, use digital sensors like cameras to capture images, representing them as a collection of pixels as shown below.\n",
        "\n",
        "![Pixel Representation of Images](https://static.packt-cdn.com/products/9781789613964/graphics/assets/8c65833d-b7f8-440e-8382-0001ac70af13.png)\n",
        "\n",
        "Each pixel corresponds to a small area of the image and contains information about color and intensity. The pixel values fall within a range of 0-255 for each channel (red, green, and blue) in RGB images. Greyscale images contain only single channel, but the values still fall in the 0-255 range.\n",
        "\n",
        "Computers rely on algorithms and computational models to analyse visual data. However, this poses a significant challenge due to how the appearance of objects can change when captured by a camera (see figure below). Varying lighting and perspectives, as well as occlusion can all have a significant effect.\n",
        "\n",
        "![Figure: cats are challenging!](https://www.researchgate.net/profile/Mingle-Xu/publication/368464605/figure/fig5/AS:11431281120162006@1676378216076/Different-cat-instances-gives-the-intra-class-variation-Image-are-from-Class-CS231n-2.ppm)\n",
        "\n",
        "### **Approaches to Computer Vision**\n",
        "Traditional computer vision techniques, like edge detection, often face challenges in effectively handling variations such as these. Deep learning instead seeks to autonomously learn and extract hierarchical representations from large amounts of data. This approach has quickly become the predominant approach in computer vision, leading to remarkable advancements in image analysis ([AlexNet paper]()). The improvements deep learning has brought to computer vision has paved the way for significant breakthroughs in various applications, such as:\n",
        "\n",
        "1. Autonomous vehicles and self-driving cars\n",
        "2. Object recognition and detection for industrial automation\n",
        "4. Medical imaging and diagnostics\n",
        "5. Surveillance and security systems, including monitoring and environmental applications\n",
        "6. Augmented reality and virtual reality experiences\n",
        "\n",
        "\n"
      ],
      "metadata": {
        "id": "AQjKgZxr4Ddy"
      }
    },
    {
      "cell_type": "markdown",
      "source": [
        "# **What is Deep Learning?**"
      ],
      "metadata": {
        "id": "F__ZYF8TZ-ZT"
      }
    },
    {
      "cell_type": "markdown",
      "source": [
        "The terms \"deep learning\" and \"deep networks\" can be vague. Deep networks refer to neural networks that have a high number of hidden layers, but there isn't a specific threshold for the number of hidden layers that makes a network \"deep\".\n",
        "\n",
        "In a deep network, the layers are generally connected in a sequential manner. The output of one layer serves as the input for the next layer. Each layer consists of a set of neurons, and the connections between these neurons are determined by the network architecture.\n",
        "\n",
        "The figure below shows the three main types of layer:\n",
        "\n",
        "1. Input layers. This layer receives the initial data/features. This could be raw data (e.g. images, text, or numerical values) or handcrafted features.\n",
        "\n",
        "2. Hidden layers. These layers are the intermediate layers between the input and output layers. Each hidden layer consists of multiple neurons that apply mathematical operations on the input they receive. These operations involve weights and biases associated with the connections between neurons. The purpose of the hidden layers is to extract and learn hierarchical representations of the input data, gradually increasing the level of abstraction as information passes through the network.\n",
        "\n",
        "3. Output layer. This layer provides the final results or predictions of the network. The number of neurons in the output layer depends on the specific task the network is designed for.\n",
        "\n",
        "![Training Method](https://machinelearningknowledge.ai/wp-content/uploads/2019/10/Backpropagation.gif \"backprop\")\n",
        "\n",
        "#### **Introduction to Training a Deep Learning Network**\n",
        "\n",
        "Training a deep learning network contains many stages. Fortunately, this will be handled for us - but it is still good to have a general understanding of the process under the hood. The key stages are listed below:\n",
        "1. Forward pass. During the forward pass, input data flows through the network layer by layer, with each layer's output becoming the input for the next layer. Hidden layers perform computations using weights and biases, and apply activation functions for non-linearity.\n",
        "2. Forward pass - make predictions. This process continues until the data reaches the output layer, producing the network's predicted output, which can be a single value or a vector representing classes or regression values.\n",
        "3. Calculate loss by comparing the network's predicted output to the ground truth or true output. The goal of training a neural network is to minimise the loss function, which is achieved through optimisation algorithms like backpropagation.\n",
        "4. Backpropagate through the network to minimise the loss function by changing the values of the weights (W) and biases (b).\n",
        "\n",
        "\n",
        "\n"
      ],
      "metadata": {
        "id": "IPAiSfnLeeCv"
      }
    },
    {
      "cell_type": "markdown",
      "source": [
        "#### **Forward Pass Hand Calculation**\n",
        "\n",
        "The figure below shows a very tiny network, consisting of 3 inputs, a single hidden layer (with a single neuron) and an output later. The forward pass of this network can be defined by:\n",
        "\n",
        "$f(x) = x_{1}w_{1} + b_{1} + x_{2}w_{2} + b_{2} + x_{2}w_{2}$ + b_{3}$\n",
        "\n",
        "![Single Neuron](https://miro.medium.com/v2/resize:fit:1400/1*L9xLcwKhuZ2cuS8fF0ZjwA.png)\n",
        "\n",
        "We will initialise the network so that the weights ($w_{1}, w_{2}, w_{3}$) are equal to 0.2, 0.3 and 0.4, respectively, while the bias terms ($b_{i}$) are set to zero. The input data $x_{1}, x_{2}, x_{3}$ is equivalent to 0.1, 0.3, and 0.5.\n",
        "\n",
        "**Task**:\n",
        "1. Calculate the output ($\\hat{y}$) of the network.\n",
        "2. Explore the use of activation functions (see figure below for some examples). Activation functions are applied to the output value at a given node, once it has been calculated. A linear activation function is equivalent to no activation function - our output is equal to the exact value that is calculated by the hidden layer. For example, if we applied the binary step activation function, and the output of the hidden layer was $f(x) > 0$, we would set the output of the hidden layer to 1 (or 0 if $f(x) < 0 $).\n",
        "\n",
        "![Activation Functions](https://iq.opengenus.org/content/images/2021/11/Comparion-of-Activation-Functions--1-.png)"
      ],
      "metadata": {
        "id": "fOiqblx5X2Wj"
      }
    },
    {
      "cell_type": "markdown",
      "source": [
        "# **Deep Learning Pipeline**\n",
        "\n",
        "In this worksheet, we will build a model that is capable of classifying (identifying) handwritten digits from 0 to 9. To develop accurate and effective models, we will need a well-structured machine learning pipeline, one typical examples is shown in the figure below. For this worksheet, our focus is steps 5 and 6, although we will briefly touch upon steps 3 and 4 as well.\n",
        "\n",
        "![ML/DL Pipeline](https://media.licdn.com/dms/image/C5612AQHvNxtz_cF3HA/article-cover_image-shrink_600_2000/0/1568515485238?e=2147483647&v=beta&t=tFznklP_oYb1IiKaku1Y30402ASan_IGmXfofWa0kgU)\n",
        "\n",
        "Each stage in this pipeline plays a crucial role in ensuring the model's performance and suitability for real-world applications. Keep these stages in mind as your progress through the worksheet!\n",
        "\n"
      ],
      "metadata": {
        "id": "jx7-NXL_5qMO"
      }
    },
    {
      "cell_type": "markdown",
      "source": [
        "## **Stage 1: Data preparation**\n",
        "\n",
        "\n",
        "---\n",
        "\n",
        "\n",
        "In this worksheet we will use a simple in-built dataset ([MNIST](https://www.tensorflow.org/datasets/catalog/mnist)). MNIST is a database of handwritten digits.\n",
        "\n",
        "*Why MNIST and not a more complex dataset?* Simpler datasets generally work better with simpler models (and simple models take less time to train)! This approach will allow us to experiment with different architectures or training methods over a short timeframe. If you'd like to use a more complex dataset, please refer to the \"Further Activities\" section on this worksheet.\n",
        "\n",
        "### **Steps**\n",
        "1. Import required modules and load the data\n",
        "2. Visualise data\n",
        "3. Preprocess data"
      ],
      "metadata": {
        "id": "du16n0ts3nWD"
      }
    },
    {
      "cell_type": "markdown",
      "source": [
        "### Helper Functions\n",
        "\n",
        "The cells in this section to ensure that the required modules and libraries are correctly imported, and define a number of helper functions that will be useful during our investigation. Run these cells, but do not edit them for now.\n",
        "\n",
        "\n"
      ],
      "metadata": {
        "id": "svT07ppA_Tm2"
      }
    },
    {
      "cell_type": "code",
      "source": [
        "# import required modules\n",
        "import keras\n",
        "import matplotlib.pyplot as plt\n",
        "import pandas as pd\n",
        "import tensorflow as tf\n",
        "\n",
        "\n",
        "from random import randint\n",
        "from sklearn.model_selection import KFold"
      ],
      "metadata": {
        "id": "k4SkDi7y-aOt"
      },
      "execution_count": null,
      "outputs": []
    },
    {
      "cell_type": "code",
      "source": [
        "def display_images(imgs_array, rows, cols):\n",
        "\n",
        "  \"\"\"\n",
        "  Inputs:\n",
        "    - imgs_array: array of images to display\n",
        "    - num_images (int): the number of images you would like to display\n",
        "    - rows (int): the number of rows for images to be displayed across\n",
        "    - cols (int): the number of columns for images to be displayed across\n",
        "\n",
        "    N.B. rows * cols = num_images\n",
        "  \"\"\"\n",
        "\n",
        "  for i in range((rows*cols)):\n",
        "\n",
        "    im = randint(0, X_train.shape[0])\n",
        "\n",
        "    # define subplot\n",
        "    plt.subplot(rows, cols, i+1)\n",
        "\n",
        "    # plot raw pixel data\n",
        "    plt.imshow(X_train[im], cmap='gray')\n",
        "\n",
        "  # show the figure\n",
        "  plt.show()\n"
      ],
      "metadata": {
        "id": "mnz0kIDR_Xpb"
      },
      "execution_count": null,
      "outputs": []
    },
    {
      "cell_type": "code",
      "source": [
        "def preprocess_data(data):\n",
        "\n",
        "  # reshape training images to the correct input shape\n",
        "  data = tf.reshape(data, shape=[-1, 28, 28, 1])\n",
        "  data = tf.cast(data, tf.float32)/255.0\n",
        "\n",
        "  return data"
      ],
      "metadata": {
        "id": "lSt4oJvxtlTg"
      },
      "execution_count": null,
      "outputs": []
    },
    {
      "cell_type": "code",
      "source": [
        "def preprocess_labels(labels):\n",
        "\n",
        "  # one hot encoding\n",
        "  labels = pd.get_dummies(labels)\n",
        "\n",
        "  return labels"
      ],
      "metadata": {
        "id": "GNemlj-Q1Ch8"
      },
      "execution_count": null,
      "outputs": []
    },
    {
      "cell_type": "markdown",
      "source": [
        "### **Data Preparation Step 1: Load the Data**\n",
        "\n",
        "The first step in any machine learning pipeline is to load the data. It is customary practice in machine learning to define your data (the image of the digit) as X, and your labels (what number the digit is, or what *class* it belongs to) as y. We will load the in-built MNIST dataset."
      ],
      "metadata": {
        "id": "eYzpql3056lm"
      }
    },
    {
      "cell_type": "code",
      "source": [
        "# load in-built keras dataset of mnist digits\n",
        "(X_train, y_train), (X_test, y_test) = tf.keras.datasets.mnist.load_data()\n",
        "\n",
        "# X_train = training data\n",
        "# y_train = labels for training data\n",
        "# X_test = testing data\n",
        "# y_test = labels for testing data\n",
        "\n",
        "print(X_train.shape, y_train.shape, X_test.shape, y_test.shape)"
      ],
      "metadata": {
        "colab": {
          "base_uri": "https://localhost:8080/"
        },
        "id": "ARtzAO4E99-N",
        "outputId": "e085d013-b9b1-45cb-b138-90536193502c"
      },
      "execution_count": null,
      "outputs": [
        {
          "output_type": "stream",
          "name": "stdout",
          "text": [
            "Downloading data from https://storage.googleapis.com/tensorflow/tf-keras-datasets/mnist.npz\n",
            "11490434/11490434 [==============================] - 0s 0us/step\n",
            "(60000, 28, 28) (60000,) (10000, 28, 28) (10000,)\n"
          ]
        }
      ]
    },
    {
      "cell_type": "markdown",
      "source": [
        "We load the data in the format: (samples, width, height). We can see that the MNIST dataset, has a training set comprised of 60,000 images (or samples). How many images are in the testing set?\n",
        "\n",
        "Each of these images has a size of 28x28 pixels. How many channels are there? Does this mean that the images are greyscale or RGB?"
      ],
      "metadata": {
        "id": "AI5f1w5-z9yx"
      }
    },
    {
      "cell_type": "markdown",
      "source": [
        "### **Data Preparation Step 2: Visualise the Data**\n",
        "\n",
        "Visually reviewing data is a key step in determining patterns and trends, as well as detecting anomalies. The more images you review, the better you will understand your dataset.\n",
        "\n",
        "The code block below displays a selection of random images from the training dataset. Run the code block a few times, to review the samples that make up the training set."
      ],
      "metadata": {
        "id": "aJ92C_XY58y9"
      }
    },
    {
      "cell_type": "code",
      "source": [
        "rows, cols = 4, 4 # change these variables to determine the number of images you would like to review\n",
        "display_images(X_train, rows, cols) # displays rows*cols images"
      ],
      "metadata": {
        "colab": {
          "base_uri": "https://localhost:8080/",
          "height": 434
        },
        "id": "LySu5uPk_GPx",
        "outputId": "6f828544-648d-46a6-e74e-b3f6c154aea1"
      },
      "execution_count": null,
      "outputs": [
        {
          "output_type": "display_data",
          "data": {
            "text/plain": [
              "<Figure size 640x480 with 16 Axes>"
            ],
            "image/png": "[encoded data removed]"
          },
          "metadata": {}
        }
      ]
    },
    {
      "cell_type": "markdown",
      "source": [
        "The MNIST dataset is very structured - it is a dataset of handwritten digits between 0-9. Each image has a black background and contains one handwritten white number.\n",
        "\n",
        "**Task:** While you are reviewing the dataset, consider the following questions:\n",
        "1. Are there any numbers that are difficult to tell apart (low inter-class variance)?\n",
        "2. Which single number is written in the greatest number of different ways (high intra-class variance)?\n",
        "\n"
      ],
      "metadata": {
        "id": "5eUgcWEYgE8p"
      }
    },
    {
      "cell_type": "markdown",
      "source": [
        "## **Stage 2: Model Selection and Training**\n",
        "\n",
        "---\n",
        "\n",
        "\n",
        "In this stage we will build and then train a machine learning algorithm (or model architecture) appropriate for the specific task at hand.\n",
        "\n",
        "Model selection depends on factors such as: *(i)* the type of problem (classification, regression, etc.), *(ii)* the nature of the data, and *(iii)* the desired performance metrics. Once defined, the model can be trained.\n",
        "\n",
        "### **Steps**\n",
        "1. Build the model\n",
        "2. Train the model and evaluate the performance\n",
        "3. Refine the model\n",
        "4. Iterate steps 1-3 to find the best model"
      ],
      "metadata": {
        "id": "1RCp-9O46CbU"
      }
    },
    {
      "cell_type": "markdown",
      "source": [
        "### **Model Selection and Training Step 1: Build the Model**\n",
        "\n",
        "We will use [Keras](https://keras.io/) (Tensorflow backend) to define our model. As shown in the figure below, a neural network is comprised of different types of layers.\n",
        "\n",
        "![Figure: MLP](https://www.researchgate.net/publication/354817375/figure/fig2/AS:1071622807097344@1632506195651/Multi-layer-perceptron-MLP-NN-basic-Architecture.jpg)\n",
        "\n",
        "Recall that the input layer takes in the preprocessed data, and feeds it to the model, while the output layer is typically a dense or fully-connected layer (see link below for further information). The structure of the hidden layers varies depending on the nature of the task.\n",
        "\n",
        "Classification problems are problems in which a sample is to be classified into one of n classes. A couple of examples of classification problems are: sorting images into pictures of cats or dogs (and possibly more!), sorting images of digits according to which number is written, or classifying email as spam or not-spam. Regression problems are problems in which the output is a continuous value. This could include financial projections, for example, or predicting the bounding box location of objects in images.\n",
        "\n",
        "For image classification tasks, three types of layers are particularly useful:\n",
        "\n",
        "1. [Convolutional layers](https://keras.io/api/layers/convolution_layers/)\n",
        "2. [Pooling layers](https://keras.io/api/layers/pooling_layers/)\n",
        "3. [Dense - or fully connected - layers](https://keras.io/api/layers/core_layers/dense/)\n",
        "\n",
        "**Task**: finish building the model below.\n",
        "1. Define the input shape. This should match the shape of a single sample of your data (i.e. the height and width of a single image).\n",
        "2. Define the output shape. This should match the number of classes in the dataset.\n",
        "3. Test the function works by running the code block. A table that details the layers making up your model should be printed once the code has finished running. The column \"output shape\" details how the shape of the data changes as it passes through the network. Do different layers have different effects on the shape? How many parameters does this model have?"
      ],
      "metadata": {
        "id": "CJVy-iih4jUk"
      }
    },
    {
      "cell_type": "code",
      "source": [
        "def build_model(nrows, ncols, nchannels, num_classes):\n",
        "  \"\"\" Do not change this function for now. \"\"\"\n",
        "\n",
        "  # define our input layer\n",
        "  inputs = keras.Input(shape=(nrows, ncols, nchannels))\n",
        "\n",
        "  # define the core model: a 2d-convolutional layer, followed by a max pooling layer\n",
        "  conv2d = keras.layers.Conv2D(32, (3, 3), activation=\"relu\")(inputs)\n",
        "  pooling = keras.layers.MaxPooling2D((2, 2))(conv2d)\n",
        "\n",
        "  ### add extra layers here, format\n",
        "  # name = keras.layers.LAYERNAME()(name_of_previous_layer)\n",
        "\n",
        "  #### don't change the layers below this\n",
        "\n",
        "  # flatten the output from the convolutional block\n",
        "  flatten = keras.layers.Flatten()(pooling)\n",
        "\n",
        "  # and define the output layer\n",
        "  ## fully-connceted/dense layers\n",
        "  outputs = keras.layers.Dense(num_classes, activation=\"softmax\")(flatten)\n",
        "\n",
        "  # build the model\n",
        "  model = keras.Model(inputs=inputs, outputs=outputs, name=\"mnist_model\")\n",
        "\n",
        "  print(model.summary())\n",
        "\n",
        "  return model\n",
        "\n",
        "\n",
        "## change the code below this\n",
        "(nrows, ncols, nchannels) = (28,28,1) # input shape\n",
        "num_classes = 10\n",
        "build_model(nrows, ncols, nchannels, num_classes)"
      ],
      "metadata": {
        "id": "w5sN-GhFDH4d",
        "colab": {
          "base_uri": "https://localhost:8080/"
        },
        "outputId": "523bc491-92cd-417f-bbb0-3d1b4c9ad564"
      },
      "execution_count": null,
      "outputs": [
        {
          "output_type": "stream",
          "name": "stdout",
          "text": [
            "Model: \"mnist_model\"\n",
            "_________________________________________________________________\n",
            " Layer (type)                Output Shape              Param #   \n",
            "=================================================================\n",
            " input_10 (InputLayer)       [(None, 28, 28, 1)]       0         \n",
            "                                                                 \n",
            " conv2d_9 (Conv2D)           (None, 26, 26, 32)        320       \n",
            "                                                                 \n",
            " max_pooling2d_8 (MaxPooling  (None, 13, 13, 32)       0         \n",
            " 2D)                                                             \n",
            "                                                                 \n",
            " flatten_8 (Flatten)         (None, 5408)              0         \n",
            "                                                                 \n",
            " dense_8 (Dense)             (None, 10)                54090     \n",
            "                                                                 \n",
            "=================================================================\n",
            "Total params: 54,410\n",
            "Trainable params: 54,410\n",
            "Non-trainable params: 0\n",
            "_________________________________________________________________\n",
            "None\n"
          ]
        },
        {
          "output_type": "execute_result",
          "data": {
            "text/plain": [
              "<keras.engine.functional.Functional at 0x7969c6ecca90>"
            ]
          },
          "metadata": {},
          "execution_count": 19
        }
      ]
    },
    {
      "cell_type": "markdown",
      "source": [
        "### **Model Selection and Training Step 2: Train the model**"
      ],
      "metadata": {
        "id": "vRxgGTeIQfc2"
      }
    },
    {
      "cell_type": "markdown",
      "source": [
        "#### **The Training Procedure in Practice**\n",
        "\n",
        "In order to evaluate our model fairly, we need to split the data into a train, validation, and test set (data segregration). We use the train data to train our model, and first evaluate its performance on the validation set. We can try, for example, different model architectures to see if we can improve our performance on the validation set. **The test set is reserved solely for the final assessment**, once all improvements have been made, and we are happy with the performance on the validation set.\n",
        "\n",
        "![How to split training data](https://scikit-learn.org/stable/_images/grid_search_cross_validation.png)\n",
        "\n",
        "This works well generally, but to improve our training process even further, we can use *k-fold cross-validation*. This is a technique where we split our data into k number of \"folds\". Each fold is held-out once during the training process and used as the validation set, while the others are used as the training set. This gives us a more holistic view of how the model performs on different types of data, as we are evaluating across a larger range of data.\n",
        "\n",
        "The code below implements k-fold cross-validation and trains the model. There are a number of key parameters that we will need to set ahead of time, listed below:\n",
        "\n",
        "1. Loss. We will use the [`CategoricalCrossentropy`](https://keras.io/api/losses/probabilistic_losses/#categoricalcrossentropy-class) as we have more than two classes, and we will one-hot encode the labels (if you would like to explore why this is generally best practice you can do so [here]()). One-hot encoding ([more info here](https://www.geeksforgeeks.org/ml-one-hot-encoding-of-datasets-in-python/)) is automatically handled by the helper functions earlier in the worksheet.\n",
        "2. Learning rate. This essentially defines how much the model is allowed to update (how much to change the weights by) after the error has been calculated.\n",
        "3. Number of folds. How many folds we split our training set into.\n",
        "4. Number of epochs. How many times we train the model on our dataset. The training time of complex models, or very large datasets can quickly become very large - multiple weeks or months.\n",
        "5. Batch size. This is the number of samples that are input to the model before the model is updated.\n",
        "\n",
        "**Task:**\n",
        "1. Define the parameters for [number of folds](https://scikit-learn.org/stable/modules/generated/sklearn.model_selection.KFold.html) (`n_folds`), the [batchsize](https://keras.io/api/models/model_training_apis/#fit-method) (`batch size`), and the number of epochs (`num_epochs`). The Keras and sklearn documention provides defaults for number of folds and batchsize values that may provide using starting points for you. A good rule of thumb for training deep learning models is to train until the validation loss (loss on the validation set) increases after an epoch.\n"
      ],
      "metadata": {
        "id": "VuA2_ux6Sqkf"
      }
    },
    {
      "cell_type": "code",
      "source": [
        "# training procedure: we will use cross validation to get a better idea of how our model is performing\n",
        "n_folds = 5 ## fill in the number of folds here\n",
        "num_epochs = 10\n",
        "batchsize = 32\n",
        "\n",
        "\n",
        "####### do not change code below this line for now\n",
        "\n",
        "kf = KFold(n_folds, shuffle=True, random_state=42)\n",
        "# we define a random state so that we can reproduce our training procedure with different models etc\n",
        "\n",
        "# define optimizer and learning rate for model compilation\n",
        "lr = 0.01\n",
        "opt = keras.optimizers.Adam(learning_rate=lr)\n",
        "\n",
        "# store model accuracy\n",
        "accuracies = []\n",
        "\n",
        "\n",
        "for i, (train_index, val_index) in enumerate(kf.split(X_train)): # for each fold\n",
        "  print(f\"Fold {i}\")\n",
        "\n",
        "  # retrieve fold data\n",
        "  X_train_fold, X_val_fold = X_train[train_index], X_train[val_index]\n",
        "  y_train_fold, y_val_fold = y_train[train_index], y_train[val_index]\n",
        "\n",
        "  # preprocess the data appropriately\n",
        "  y_train_fold, y_val_fold = preprocess_labels(y_train_fold), preprocess_labels(y_val_fold)\n",
        "  X_train_fold, X_val_fold = preprocess_data(X_train_fold), preprocess_data(X_val_fold)\n",
        "\n",
        "  # build model\n",
        "  digit_predictor = build_model(28, 28, 1, 10)\n",
        "  digit_predictor.compile(optimizer=opt, loss='categorical_crossentropy', metrics=['accuracy'])\n",
        "\n",
        "  # train model\n",
        "  history = digit_predictor.fit(X_train_fold, y_train_fold, epochs=num_epochs, batch_size=batchsize, validation_data=(X_val_fold, y_val_fold), verbose=1)\n",
        "\n",
        "  # review accuracy\n",
        "  loss, acc = digit_predictor.evaluate(X_val_fold, y_val_fold, verbose=0)\n",
        "\n",
        "  accuracies.append(acc)\n",
        "\n",
        "  print(f\"Accuracy: {acc}\" )"
      ],
      "metadata": {
        "colab": {
          "base_uri": "https://localhost:8080/"
        },
        "id": "TA6K-EC1phel",
        "outputId": "e74104a0-1411-4f14-d056-fdadbfe4d923"
      },
      "execution_count": null,
      "outputs": [
        {
          "output_type": "stream",
          "name": "stdout",
          "text": [
            "Fold 0\n",
            "Model: \"mnist_model\"\n",
            "_________________________________________________________________\n",
            " Layer (type)                Output Shape              Param #   \n",
            "=================================================================\n",
            " input_5 (InputLayer)        [(None, 28, 28, 1)]       0         \n",
            "                                                                 \n",
            " conv2d_4 (Conv2D)           (None, 26, 26, 32)        320       \n",
            "                                                                 \n",
            " max_pooling2d_3 (MaxPooling  (None, 13, 13, 32)       0         \n",
            " 2D)                                                             \n",
            "                                                                 \n",
            " flatten_3 (Flatten)         (None, 5408)              0         \n",
            "                                                                 \n",
            " dense_3 (Dense)             (None, 10)                54090     \n",
            "                                                                 \n",
            "=================================================================\n",
            "Total params: 54,410\n",
            "Trainable params: 54,410\n",
            "Non-trainable params: 0\n",
            "_________________________________________________________________\n",
            "None\n",
            "Epoch 1/10\n",
            "1500/1500 [==============================] - 29s 18ms/step - loss: 0.1384 - accuracy: 0.9582 - val_loss: 0.0871 - val_accuracy: 0.9737\n",
            "Epoch 2/10\n",
            "1500/1500 [==============================] - 26s 17ms/step - loss: 0.0644 - accuracy: 0.9802 - val_loss: 0.0689 - val_accuracy: 0.9785\n",
            "Epoch 3/10\n",
            "1500/1500 [==============================] - 27s 18ms/step - loss: 0.0494 - accuracy: 0.9850 - val_loss: 0.0783 - val_accuracy: 0.9756\n",
            "Epoch 4/10\n",
            "1500/1500 [==============================] - 27s 18ms/step - loss: 0.0421 - accuracy: 0.9857 - val_loss: 0.0813 - val_accuracy: 0.9805\n",
            "Epoch 5/10\n",
            "1500/1500 [==============================] - 26s 18ms/step - loss: 0.0329 - accuracy: 0.9896 - val_loss: 0.0921 - val_accuracy: 0.9774\n",
            "Epoch 6/10\n",
            "1500/1500 [==============================] - 25s 16ms/step - loss: 0.0312 - accuracy: 0.9899 - val_loss: 0.1241 - val_accuracy: 0.9772\n",
            "Epoch 7/10\n",
            "1500/1500 [==============================] - 25s 17ms/step - loss: 0.0249 - accuracy: 0.9919 - val_loss: 0.1230 - val_accuracy: 0.9774\n",
            "Epoch 8/10\n",
            "1500/1500 [==============================] - 25s 16ms/step - loss: 0.0232 - accuracy: 0.9924 - val_loss: 0.1311 - val_accuracy: 0.9778\n",
            "Epoch 9/10\n",
            "1500/1500 [==============================] - 27s 18ms/step - loss: 0.0213 - accuracy: 0.9932 - val_loss: 0.1306 - val_accuracy: 0.9775\n",
            "Epoch 10/10\n",
            "1500/1500 [==============================] - 25s 17ms/step - loss: 0.0238 - accuracy: 0.9930 - val_loss: 0.1469 - val_accuracy: 0.9778\n",
            "Accuracy: 0.9778333306312561\n",
            "Fold 1\n",
            "Model: \"mnist_model\"\n",
            "_________________________________________________________________\n",
            " Layer (type)                Output Shape              Param #   \n",
            "=================================================================\n",
            " input_6 (InputLayer)        [(None, 28, 28, 1)]       0         \n",
            "                                                                 \n",
            " conv2d_5 (Conv2D)           (None, 26, 26, 32)        320       \n",
            "                                                                 \n",
            " max_pooling2d_4 (MaxPooling  (None, 13, 13, 32)       0         \n",
            " 2D)                                                             \n",
            "                                                                 \n",
            " flatten_4 (Flatten)         (None, 5408)              0         \n",
            "                                                                 \n",
            " dense_4 (Dense)             (None, 10)                54090     \n",
            "                                                                 \n",
            "=================================================================\n",
            "Total params: 54,410\n",
            "Trainable params: 54,410\n",
            "Non-trainable params: 0\n",
            "_________________________________________________________________\n",
            "None\n",
            "Epoch 1/10\n",
            "1500/1500 [==============================] - 25s 17ms/step - loss: 0.2081 - accuracy: 0.9394 - val_loss: 0.1380 - val_accuracy: 0.9587\n",
            "Epoch 2/10\n",
            "1500/1500 [==============================] - 25s 16ms/step - loss: 0.1238 - accuracy: 0.9634 - val_loss: 0.1230 - val_accuracy: 0.9637\n",
            "Epoch 3/10\n",
            "1500/1500 [==============================] - 25s 17ms/step - loss: 0.1116 - accuracy: 0.9662 - val_loss: 0.1164 - val_accuracy: 0.9665\n",
            "Epoch 4/10\n",
            "1500/1500 [==============================] - 26s 17ms/step - loss: 0.1042 - accuracy: 0.9671 - val_loss: 0.1217 - val_accuracy: 0.9656\n",
            "Epoch 5/10\n",
            "1500/1500 [==============================] - 25s 17ms/step - loss: 0.0994 - accuracy: 0.9690 - val_loss: 0.1155 - val_accuracy: 0.9664\n",
            "Epoch 6/10\n",
            "1500/1500 [==============================] - 25s 17ms/step - loss: 0.0962 - accuracy: 0.9710 - val_loss: 0.1331 - val_accuracy: 0.9638\n",
            "Epoch 7/10\n",
            "1500/1500 [==============================] - 24s 16ms/step - loss: 0.0936 - accuracy: 0.9708 - val_loss: 0.1225 - val_accuracy: 0.9667\n",
            "Epoch 8/10\n",
            "1500/1500 [==============================] - 26s 17ms/step - loss: 0.0907 - accuracy: 0.9719 - val_loss: 0.1260 - val_accuracy: 0.9667\n",
            "Epoch 9/10\n",
            "1500/1500 [==============================] - 25s 17ms/step - loss: 0.0899 - accuracy: 0.9719 - val_loss: 0.1245 - val_accuracy: 0.9644\n",
            "Epoch 10/10\n",
            "1500/1500 [==============================] - 25s 17ms/step - loss: 0.0866 - accuracy: 0.9730 - val_loss: 0.1372 - val_accuracy: 0.9621\n",
            "Accuracy: 0.9620833396911621\n",
            "Fold 2\n",
            "Model: \"mnist_model\"\n",
            "_________________________________________________________________\n",
            " Layer (type)                Output Shape              Param #   \n",
            "=================================================================\n",
            " input_7 (InputLayer)        [(None, 28, 28, 1)]       0         \n",
            "                                                                 \n",
            " conv2d_6 (Conv2D)           (None, 26, 26, 32)        320       \n",
            "                                                                 \n",
            " max_pooling2d_5 (MaxPooling  (None, 13, 13, 32)       0         \n",
            " 2D)                                                             \n",
            "                                                                 \n",
            " flatten_5 (Flatten)         (None, 5408)              0         \n",
            "                                                                 \n",
            " dense_5 (Dense)             (None, 10)                54090     \n",
            "                                                                 \n",
            "=================================================================\n",
            "Total params: 54,410\n",
            "Trainable params: 54,410\n",
            "Non-trainable params: 0\n",
            "_________________________________________________________________\n",
            "None\n",
            "Epoch 1/10\n",
            "1500/1500 [==============================] - 25s 17ms/step - loss: 0.1583 - accuracy: 0.9527 - val_loss: 0.1107 - val_accuracy: 0.9672\n",
            "Epoch 2/10\n",
            "1500/1500 [==============================] - 24s 16ms/step - loss: 0.0816 - accuracy: 0.9751 - val_loss: 0.1067 - val_accuracy: 0.9697\n",
            "Epoch 3/10\n",
            "1500/1500 [==============================] - 27s 18ms/step - loss: 0.0720 - accuracy: 0.9772 - val_loss: 0.1087 - val_accuracy: 0.9676\n",
            "Epoch 4/10\n",
            "1500/1500 [==============================] - 30s 20ms/step - loss: 0.0639 - accuracy: 0.9795 - val_loss: 0.1100 - val_accuracy: 0.9707\n",
            "Epoch 5/10\n",
            "1500/1500 [==============================] - 24s 16ms/step - loss: 0.0571 - accuracy: 0.9824 - val_loss: 0.1256 - val_accuracy: 0.9666\n",
            "Epoch 6/10\n",
            "1500/1500 [==============================] - 25s 16ms/step - loss: 0.0551 - accuracy: 0.9821 - val_loss: 0.1175 - val_accuracy: 0.9704\n",
            "Epoch 7/10\n",
            "1500/1500 [==============================] - 25s 17ms/step - loss: 0.0515 - accuracy: 0.9828 - val_loss: 0.1169 - val_accuracy: 0.9712\n",
            "Epoch 8/10\n",
            "1500/1500 [==============================] - 27s 18ms/step - loss: 0.0502 - accuracy: 0.9834 - val_loss: 0.1393 - val_accuracy: 0.9692\n",
            "Epoch 9/10\n",
            "1500/1500 [==============================] - 26s 17ms/step - loss: 0.0475 - accuracy: 0.9846 - val_loss: 0.1246 - val_accuracy: 0.9706\n",
            "Epoch 10/10\n",
            "1500/1500 [==============================] - 24s 16ms/step - loss: 0.0471 - accuracy: 0.9848 - val_loss: 0.1630 - val_accuracy: 0.9646\n",
            "Accuracy: 0.9645833373069763\n",
            "Fold 3\n",
            "Model: \"mnist_model\"\n",
            "_________________________________________________________________\n",
            " Layer (type)                Output Shape              Param #   \n",
            "=================================================================\n",
            " input_8 (InputLayer)        [(None, 28, 28, 1)]       0         \n",
            "                                                                 \n",
            " conv2d_7 (Conv2D)           (None, 26, 26, 32)        320       \n",
            "                                                                 \n",
            " max_pooling2d_6 (MaxPooling  (None, 13, 13, 32)       0         \n",
            " 2D)                                                             \n",
            "                                                                 \n",
            " flatten_6 (Flatten)         (None, 5408)              0         \n",
            "                                                                 \n",
            " dense_6 (Dense)             (None, 10)                54090     \n",
            "                                                                 \n",
            "=================================================================\n",
            "Total params: 54,410\n",
            "Trainable params: 54,410\n",
            "Non-trainable params: 0\n",
            "_________________________________________________________________\n",
            "None\n",
            "Epoch 1/10\n",
            "1500/1500 [==============================] - 25s 17ms/step - loss: 0.1741 - accuracy: 0.9480 - val_loss: 0.1295 - val_accuracy: 0.9593\n",
            "Epoch 2/10\n",
            "1500/1500 [==============================] - 25s 17ms/step - loss: 0.1017 - accuracy: 0.9686 - val_loss: 0.1154 - val_accuracy: 0.9640\n",
            "Epoch 3/10\n",
            "1500/1500 [==============================] - 26s 17ms/step - loss: 0.0854 - accuracy: 0.9728 - val_loss: 0.1078 - val_accuracy: 0.9676\n",
            "Epoch 4/10\n",
            "1500/1500 [==============================] - 27s 18ms/step - loss: 0.0768 - accuracy: 0.9759 - val_loss: 0.1172 - val_accuracy: 0.9686\n",
            "Epoch 5/10\n",
            "1500/1500 [==============================] - 25s 17ms/step - loss: 0.0725 - accuracy: 0.9772 - val_loss: 0.1230 - val_accuracy: 0.9672\n",
            "Epoch 6/10\n",
            "1500/1500 [==============================] - 25s 17ms/step - loss: 0.0681 - accuracy: 0.9790 - val_loss: 0.1127 - val_accuracy: 0.9693\n",
            "Epoch 7/10\n",
            "1500/1500 [==============================] - 25s 17ms/step - loss: 0.0679 - accuracy: 0.9784 - val_loss: 0.1147 - val_accuracy: 0.9667\n",
            "Epoch 8/10\n",
            "1500/1500 [==============================] - 26s 17ms/step - loss: 0.0618 - accuracy: 0.9799 - val_loss: 0.1197 - val_accuracy: 0.9675\n",
            "Epoch 9/10\n",
            "1500/1500 [==============================] - 26s 17ms/step - loss: 0.0625 - accuracy: 0.9801 - val_loss: 0.1346 - val_accuracy: 0.9653\n",
            "Epoch 10/10\n",
            "1500/1500 [==============================] - 26s 17ms/step - loss: 0.0595 - accuracy: 0.9805 - val_loss: 0.1316 - val_accuracy: 0.9675\n",
            "Accuracy: 0.9674999713897705\n",
            "Fold 4\n",
            "Model: \"mnist_model\"\n",
            "_________________________________________________________________\n",
            " Layer (type)                Output Shape              Param #   \n",
            "=================================================================\n",
            " input_9 (InputLayer)        [(None, 28, 28, 1)]       0         \n",
            "                                                                 \n",
            " conv2d_8 (Conv2D)           (None, 26, 26, 32)        320       \n",
            "                                                                 \n",
            " max_pooling2d_7 (MaxPooling  (None, 13, 13, 32)       0         \n",
            " 2D)                                                             \n",
            "                                                                 \n",
            " flatten_7 (Flatten)         (None, 5408)              0         \n",
            "                                                                 \n",
            " dense_7 (Dense)             (None, 10)                54090     \n",
            "                                                                 \n",
            "=================================================================\n",
            "Total params: 54,410\n",
            "Trainable params: 54,410\n",
            "Non-trainable params: 0\n",
            "_________________________________________________________________\n",
            "None\n",
            "Epoch 1/10\n",
            "1500/1500 [==============================] - 26s 17ms/step - loss: 0.1804 - accuracy: 0.9474 - val_loss: 0.1193 - val_accuracy: 0.9647\n",
            "Epoch 2/10\n",
            "1500/1500 [==============================] - 24s 16ms/step - loss: 0.1013 - accuracy: 0.9694 - val_loss: 0.1096 - val_accuracy: 0.9657\n",
            "Epoch 3/10\n",
            "1500/1500 [==============================] - 24s 16ms/step - loss: 0.0901 - accuracy: 0.9722 - val_loss: 0.1140 - val_accuracy: 0.9657\n",
            "Epoch 4/10\n",
            "1500/1500 [==============================] - 25s 17ms/step - loss: 0.0800 - accuracy: 0.9751 - val_loss: 0.1038 - val_accuracy: 0.9703\n",
            "Epoch 5/10\n",
            "1500/1500 [==============================] - 24s 16ms/step - loss: 0.0698 - accuracy: 0.9783 - val_loss: 0.1043 - val_accuracy: 0.9710\n",
            "Epoch 6/10\n",
            "1500/1500 [==============================] - 25s 17ms/step - loss: 0.0627 - accuracy: 0.9803 - val_loss: 0.1111 - val_accuracy: 0.9697\n",
            "Epoch 7/10\n",
            "1500/1500 [==============================] - 25s 17ms/step - loss: 0.0618 - accuracy: 0.9805 - val_loss: 0.1161 - val_accuracy: 0.9671\n",
            "Epoch 8/10\n",
            "1500/1500 [==============================] - 25s 17ms/step - loss: 0.0573 - accuracy: 0.9816 - val_loss: 0.1120 - val_accuracy: 0.9719\n",
            "Epoch 9/10\n",
            "1500/1500 [==============================] - 25s 17ms/step - loss: 0.0548 - accuracy: 0.9825 - val_loss: 0.1238 - val_accuracy: 0.9678\n",
            "Epoch 10/10\n",
            "1500/1500 [==============================] - 26s 17ms/step - loss: 0.0528 - accuracy: 0.9833 - val_loss: 0.1256 - val_accuracy: 0.9688\n",
            "Accuracy: 0.96875\n"
          ]
        }
      ]
    },
    {
      "cell_type": "markdown",
      "source": [
        "1. **Model evaluation**: After training, the model's performance is evaluated using separate test data that was not used during training. Evaluation metrics, such as accuracy, are used to assess the model's predictive capabilities. This step helps determine how well the model generalizes to unseen data and if any further improvements or adjustments are required.\n",
        "\n",
        "We can review the accuracy of the model across the different folds by running the code block below.\n",
        "\n"
      ],
      "metadata": {
        "id": "WlCnFs559lR_"
      }
    },
    {
      "cell_type": "code",
      "source": [
        "accuracies"
      ],
      "metadata": {
        "colab": {
          "base_uri": "https://localhost:8080/"
        },
        "id": "ejDOUy6u9tmf",
        "outputId": "4312e215-3f99-49bb-9432-b1f1bb216e7b"
      },
      "execution_count": null,
      "outputs": [
        {
          "output_type": "execute_result",
          "data": {
            "text/plain": [
              "[0.9792500138282776,\n",
              " 0.9708333611488342,\n",
              " 0.9711666703224182,\n",
              " 0.9725000262260437,\n",
              " 0.9620833396911621]"
            ]
          },
          "metadata": {},
          "execution_count": 60
        }
      ]
    },
    {
      "cell_type": "markdown",
      "source": [
        "**Task:**\n",
        "\n",
        "1. Evaluate performance across the different folds. Is there a lot of variance in accuracy?\n",
        "2. Consider whether accuracy is the most appropriate metric for multiclass classification. You can explore alternative metric implementations [here](https://scikit-learn.org/stable/modules/model_evaluation.html)."
      ],
      "metadata": {
        "id": "b9PsEZGI9z2I"
      }
    },
    {
      "cell_type": "markdown",
      "source": [
        "### **Model Selection and Training Steps 3 & 4: Refining the Model (Iteratively)**\n",
        "\n",
        "Based on the evaluation results, we may decide to undergo further tuning and optimisation to improve the model's performance. This could for example, involve hyperparameter tuning, or exploring different architectures or algorithms. More advanced techniques include image augmentation methods."
      ],
      "metadata": {
        "id": "F4NThK9K6YDq"
      }
    },
    {
      "cell_type": "markdown",
      "source": [
        "#### **Different model architectures**\n",
        "\n",
        "We'll start by exploring some other architectures. The model architecture we use is very simple, and sometimes it performs well, but it is likely that we can improve its performance considerably by making a few small changes. The figure below shows a typical structure of a deep learning model based on convolutional layers.\n",
        "\n",
        "![](https://miro.medium.com/v2/resize:fit:1200/1*SGPGG7oeSvVlV5sOSQ2iZw.png)\n",
        "\n",
        "**Task**:\n",
        "1. Review the structure shown in the figure above and compare it to the model you have built (the table showing the layer structure will be useful here). Consider what changes you could make to your model.\n",
        "2. Make changes to the model.\n",
        "3. Retrain the model. You can do this by changing the `build_new_model()` function and rerunning the training loop (**don't forget to change the code to call the new `build_new_model()` function not the original `build_model()` function**), or by writing your own functions to automate the process.\n",
        "4. Assess model performance. Are there further changes you could make to the model to improve performance? Different optimisers, learning rates, and architectures will all have different effects. What is the best accuracy you are able to achieve? Once you are happy with your model, consider whether you could improve performance even further by using data augmentation."
      ],
      "metadata": {
        "id": "N8MT8Vnb6hCV"
      }
    },
    {
      "cell_type": "code",
      "source": [
        "def build_new_model(nrows, ncols, nchannels):\n",
        "\n",
        "  # define our input layer\n",
        "  inputs = keras.Input(shape=(nrows, ncols, nchannels))\n",
        "\n",
        "  # define the core model: a 2d-convolutional layer, followed by a max pooling layer\n",
        "\n",
        "  # you can change the filters and other parameters by editing the values in these layer\n",
        "  conv2d = keras.layers.Conv2D(32, (3, 3), activation=\"relu\")(inputs)\n",
        "  pooling = keras.layers.MaxPooling2D((2, 2))(conv2d)\n",
        "\n",
        "  ### add extra layers here format\n",
        "  # name = keras.layers.LAYERNAME(any_paramters, ... )(name_of_previous_layer)\n",
        "\n",
        "  # flatten the output from the convolutional block\n",
        "  flatten = keras.layers.Flatten()(pooling)\n",
        "\n",
        "  #### don't change the layers below this\n",
        "\n",
        "  # and define the output layer\n",
        "  ## fully-connected/dense layers\n",
        "  outputs = keras.layers.Dense(10, activation=\"softmax\")(flatten)\n",
        "\n",
        "  # build the model\n",
        "  model = keras.Model(inputs=inputs, outputs=outputs, name=\"mnist_model\")\n",
        "\n",
        "  print(model.summary())\n",
        "\n",
        "  return model\n",
        "\n",
        "\n",
        "## change the code below this\n",
        "(nrows, ncols, nchannels) = (28,28,1) # input shape\n",
        "build_model(nrows, ncols, nchannels)"
      ],
      "metadata": {
        "id": "-ibaoFVGXmch"
      },
      "execution_count": null,
      "outputs": []
    },
    {
      "cell_type": "markdown",
      "source": [
        "#### **Data augmentation**\n",
        "\n",
        "Data augmentation is a technique used to increase the size and/or diversity of a training dataset by applying transformations or modifications to existing data samples. This can sometimes improve model robustness and performance on unseen data. Keras provides a number of [augmentation layers](https://keras.io/api/layers/preprocessing_layers/image_augmentation/) that can be used in different ways.\n",
        "\n",
        "It is important to think about what augmentations are appropriate - we don't want to waste resources by training the model on data it is unlikely to ever see. For example, the `RandomFlip` layer is unlikely to yield representative data as not all digits are vertically symmetrical.\n",
        "\n",
        "\n",
        "**Task:**\n",
        "1. Review the different methods of data augmentation, and choose one to apply to your dataset.\n",
        "2. Build your augmentation layer into your model. This should be done after the input layer, but before any other layers in the model. The layer can be defined by `keras.layers.LAYERNAME`. Augmentation layers built this way are used during the training process, but are turned off during testing/prediction.\n",
        "3. Retrain the model and assess model performance. What effect did augmentation have? If it improved performance, could you add additional layers of different augmentations to try and improve performance even more? If performance was worse, could you try and alter the augmentation to make it more representative? Alternatively, consider different augmentation methods."
      ],
      "metadata": {
        "id": "bKfRPOgo6e2z"
      }
    },
    {
      "cell_type": "markdown",
      "source": [
        "## **Stage 3: Model Evaluation**\n",
        "\n",
        "Once we are happy with the model architecture, hyperparameters, and training process, we can test its performance on our held-out test set.\n",
        "\n",
        "### **Steps**\n",
        "\n",
        "1. Train best model on entire training set.\n",
        "2. Make predictions on the test set."
      ],
      "metadata": {
        "id": "WFrdHCC36IjB"
      }
    },
    {
      "cell_type": "code",
      "source": [
        "# preprocess the data appropriately\n",
        "X_train, X_test = preprocess_data(X_train), preprocess_data(X_test)\n",
        "y_train, y_test = preprocess_labels(y_train), preprocess_labels(y_test)\n",
        "\n",
        "# build model\n",
        "digit_predictor = build_model(28, 28, 1)\n",
        "digit_predictor.compile(optimizer=opt, loss='categorical_crossentropy', metrics=['accuracy'])\n",
        "\n",
        "# retrain model on entire dataset\n",
        "history = digit_predictor.fit(X_train, y_train, epochs=10, batch_size=32, verbose=1)\n",
        "\n",
        "# review accuracy\n",
        "loss, acc = digit_predictor.evaluate(X_test, y_test, verbose=0)\n",
        "\n",
        "print(f\"Accuracy: {acc}\")\n"
      ],
      "metadata": {
        "id": "kCazoY_hGXHo"
      },
      "execution_count": null,
      "outputs": []
    },
    {
      "cell_type": "markdown",
      "source": [
        "# **Further Activities**\n",
        "If you are already familiar with the model selection process, including data augmentation methods, you may want to experiment with more complex datasets.\n",
        "\n",
        "You can review further in-built datasets, and select one of your own to investigate here [here](https://www.tensorflow.org/datasets/catalog/overview#all_datasets). However, if you would prefer some other ideas, please review the suggested tasks below!\n",
        "\n",
        "**Suggested Tasks**:\n",
        "1. Explore a dataset of [numbers in the wild](https://www.tensorflow.org/datasets/catalog/svhn_cropped). Use the steps outlined the worksheet to build a detector capable of identifying house numbers.\n",
        "2. Explore the utility of computer vision within medical applications using the [PatchCamelyon](https://www.tensorflow.org/datasets/catalog/patch_camelyon) dataset to detect metatstatic tissue in lymph nodes, or the [Malaria](https://www.tensorflow.org/datasets/catalog/malaria) dataset to detect parasitised and uninfected red blood cells.\n",
        "3. Explore how deep learning and computer vision can contribute to monitoring land use, by using data collected from satellites at the [UC Merced](https://www.tensorflow.org/datasets/catalog/uc_merced) dataset."
      ],
      "metadata": {
        "id": "NHZSP0xD9ACF"
      }
    }
  ]
}